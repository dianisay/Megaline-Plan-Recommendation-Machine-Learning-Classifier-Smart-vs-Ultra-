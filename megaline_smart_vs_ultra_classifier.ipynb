{
 "cells": [
  {
   "cell_type": "markdown",
   "metadata": {},
   "source": [
    "# Hola &#x1F600;,\n",
    "\n",
    "Soy **Hesus Garcia** – **\"Soy el único Hesus que conoces (y probablemente conocerás) 🌟\"** – Sí, como \"Jesús\", pero con una H que me hace único. Puede sonar raro, pero créeme, ¡no lo olvidarás! Como tu revisor en Triple-Ten, estoy aquí para guiarte y ayudarte a mejorar tu código. Si algo necesita un ajuste, no hay de qué preocuparse; ¡aquí estoy para hacer que tu trabajo brille con todo su potencial! ✨\n",
    "\n",
    "Cada vez que encuentre un detalle importante en tu código, te lo señalaré para que puedas corregirlo y así te prepares para un ambiente de trabajo real, donde el líder de tu equipo actuaría de manera similar. Si en algún momento no logras solucionar el problema, te daré más detalles para ayudarte en nuestra próxima oportunidad de revisión.\n",
    "\n",
    "Es importante que cuando encuentres un comentario, **no los muevas, no los modifiques, ni los borres**.\n",
    "\n",
    "---\n",
    "\n",
    "### Formato de Comentarios\n",
    "\n",
    "Revisaré cuidadosamente cada implementación en tu notebook para asegurar que cumpla con los requisitos y te daré comentarios de acuerdo al siguiente formato:\n",
    "\n",
    "\n",
    "<div class=\"alert alert-block alert-success\">\n",
    "<b>Comentario del revisor</b> <a class=\"tocSkip\"></a><br>\n",
    "    \n",
    "<b>Éxito</b> - ¡Excelente trabajo! Esta parte está bien implementada y contribuye significativamente al análisis de datos o al proyecto. Continúa aplicando estas buenas prácticas en futuras secciones.\n",
    "    \n",
    "</div>\n",
    "\n",
    "<div class=\"alert alert-block alert-warning\">\n",
    "<b>Comentario del revisor</b> <a class=\"tocSkip\"></a><br>\n",
    "    \n",
    "<b>Atención</b> ⚠️ - Este código está correcto, pero se puede optimizar. Considera implementar mejoras para que sea más eficiente y fácil de leer. Esto fortalecerá la calidad de tu proyecto.\n",
    "    \n",
    "</div>\n",
    "\n",
    "<div class=\"alert alert-block alert-danger\">\n",
    "<b>Comentario del revisor</b> <a class=\"tocSkip\"></a><br>\n",
    "    \n",
    "<b>A resolver</b> ❗ - Aquí hay un problema o error en el código que es necesario corregir para aprobar esta sección. Por favor, revisa y corrige este punto, ya que es fundamental para la validez del análisis y la precisión de los resultados.\n",
    "    \n",
    "</div>\n",
    "\n",
    "---\n",
    "\n",
    "Al final de cada revisión, recibirás un **Comentario General del Revisor** que incluirá:\n",
    "\n",
    "- **Aspectos positivos:** Un resumen de los puntos fuertes de tu proyecto.\n",
    "- **Áreas de mejora:** Sugerencias sobre aspectos donde puedes mejorar.\n",
    "- **Temas adicionales para investigar:** Ideas de temas opcionales que puedes explorar por tu cuenta para desarrollar aún más tus habilidades.\n",
    "\n",
    "Estos temas adicionales no son obligatorios en esta etapa, pero pueden serte útiles para profundizar en el futuro.\n",
    "\n",
    "---\n",
    "\n",
    "\n",
    "Esta estructura en viñetas facilita la lectura y comprensión de cada parte del comentario final.\n",
    "\n",
    "También puedes responderme de la siguiente manera si tienes alguna duda o quieres aclarar algo específico:\n",
    "\n",
    "\n",
    "<div class=\"alert alert-block alert-info\">\n",
    "<b>Respuesta del estudiante</b> <a class=\"tocSkip\"></a>\n",
    "    \n",
    "Aquí puedes escribir tu respuesta o pregunta sobre el comentario.\n",
    "    \n",
    "</div>\n",
    "\n",
    "\n",
    "**¡Empecemos!** &#x1F680;\n"
   ]
  },
  {
   "cell_type": "markdown",
   "metadata": {},
   "source": [
    "# Recomendación de Planes Móviles para Megaline\n",
    "Megaline ha detectado que una parte significativa de sus clientes continúa utilizando planes heredados, lo cual limita la adopción de sus nuevas ofertas. Con el objetivo de optimizar la experiencia del usuario y fomentar la migración hacia sus planes actuales —Smart y Ultra— se propone el desarrollo de un modelo de clasificación capaz de analizar el comportamiento de los suscriptores y recomendar el plan más adecuado.\n",
    "\n",
    "Para este proyecto, se cuenta con un conjunto de datos que refleja el comportamiento de clientes que ya han realizado el cambio a los nuevos planes, lo que permite entrenar el modelo con información relevante y actualizada. Dado que el procesamiento de datos ya ha sido completado en etapas anteriores, el enfoque se centrará directamente en la construcción y evaluación del modelo.\n",
    "\n",
    "El objetivo es alcanzar una precisión mínima de 0.75, utilizando el dataset disponible como base para validar el rendimiento del modelo. Este umbral garantiza que las recomendaciones sean confiables y útiles para la toma de decisiones comercial\n",
    "\n",
    "## Cargar y explorar los datos"
   ]
  },
  {
   "cell_type": "code",
   "execution_count": 7,
   "metadata": {},
   "outputs": [
    {
     "name": "stdout",
     "output_type": "stream",
     "text": [
      "   calls  minutes  messages   mb_used  is_ultra\n",
      "0   40.0   311.90      83.0  19915.42         0\n",
      "1   85.0   516.75      56.0  22696.96         0\n",
      "2   77.0   467.66      86.0  21060.45         0\n",
      "3  106.0   745.53      81.0   8437.39         1\n",
      "4   66.0   418.74       1.0  14502.75         0\n",
      "<class 'pandas.core.frame.DataFrame'>\n",
      "RangeIndex: 3214 entries, 0 to 3213\n",
      "Data columns (total 5 columns):\n",
      " #   Column    Non-Null Count  Dtype  \n",
      "---  ------    --------------  -----  \n",
      " 0   calls     3214 non-null   float64\n",
      " 1   minutes   3214 non-null   float64\n",
      " 2   messages  3214 non-null   float64\n",
      " 3   mb_used   3214 non-null   float64\n",
      " 4   is_ultra  3214 non-null   int64  \n",
      "dtypes: float64(4), int64(1)\n",
      "memory usage: 125.7 KB\n",
      "None\n",
      "             calls      minutes     messages       mb_used     is_ultra\n",
      "count  3214.000000  3214.000000  3214.000000   3214.000000  3214.000000\n",
      "mean     63.038892   438.208787    38.281269  17207.673836     0.306472\n",
      "std      33.236368   234.569872    36.148326   7570.968246     0.461100\n",
      "min       0.000000     0.000000     0.000000      0.000000     0.000000\n",
      "25%      40.000000   274.575000     9.000000  12491.902500     0.000000\n",
      "50%      62.000000   430.600000    30.000000  16943.235000     0.000000\n",
      "75%      82.000000   571.927500    57.000000  21424.700000     1.000000\n",
      "max     244.000000  1632.060000   224.000000  49745.730000     1.000000\n",
      "calls       0\n",
      "minutes     0\n",
      "messages    0\n",
      "mb_used     0\n",
      "is_ultra    0\n",
      "dtype: int64\n"
     ]
    }
   ],
   "source": [
    "import pandas as pd\n",
    "\n",
    "# Cargar dataset\n",
    "df = pd.read_csv('/datasets/users_behavior.csv')\n",
    "\n",
    "# Revisión inicial\n",
    "print(df.head())\n",
    "print(df.info())\n",
    "print(df.describe())\n",
    "print(df.isnull().sum())  # Verificar valores nulos"
   ]
  },
  {
   "cell_type": "markdown",
   "metadata": {},
   "source": [
    "El dataset contiene 3214 observaciones y 5 columnas: calls, minutes, messages, mb_used y is_ultra. Las cuatro primeras son variables numéricas continuas (float64) y la variable objetivo is_ultra es entera (int64).\n",
    "\n",
    "No se encontraron valores nulos ni inconsistencias tipográficas en los nombres de columnas. La estadística descriptiva muestra valores coherentes con el comportamiento esperado de usuarios móviles, aunque con alta variabilidad en llamadas, mensajes y tráfico de datos.\n",
    "\n",
    " ## Separar variables predictoras y objetivo\n",
    "\n",
    "Los datos se segmentaron en:\n",
    "\n",
    "1. Entrenamiento: 60 % del total, utilizado para el ajuste de parámetros del modelo.\n",
    "2. Validación: 20 %, empleado para evaluar diferentes modelos y seleccionar hiperparámetros óptimos.\n",
    "3. Prueba: 20 %, reservado exclusivamente para la evaluación final del modelo seleccionado.\n",
    "\n",
    "Esta segmentación garantiza independencia entre el ajuste de parámetros y la evaluación final, evitando sesgos por sobreajuste."
   ]
  },
  {
   "cell_type": "code",
   "execution_count": 8,
   "metadata": {},
   "outputs": [],
   "source": [
    "features = df.drop('is_ultra', axis=1)\n",
    "target = df['is_ultra']"
   ]
  },
  {
   "cell_type": "code",
   "execution_count": 9,
   "metadata": {},
   "outputs": [],
   "source": [
    "from sklearn.model_selection import train_test_split\n",
    "\n",
    "# Primero separar train+temp y test\n",
    "features_train, features_temp, target_train, target_temp = train_test_split(\n",
    "    features, target, test_size=0.4, random_state=12345)\n",
    "\n",
    "# Luego dividir temp en validación y prueba\n",
    "features_valid, features_test, target_valid, target_test = train_test_split(\n",
    "    features_temp, target_temp, test_size=0.5, random_state=12345)\n"
   ]
  },
  {
   "cell_type": "markdown",
   "metadata": {},
   "source": [
    "<div class=\"alert alert-block alert-success\"> <b>Comentario del revisor</b> <a class=\"tocSkip\"></a><br> <b>Éxito</b> - Correcta carga, exploración y segmentación del dataset, con verificación de valores nulos y división equilibrada entre entrenamiento, validación y prueba, asegurando la independencia de evaluaciones. Trabajo bien estructurado para avanzar con el modelado. </div>\n"
   ]
  },
  {
   "cell_type": "markdown",
   "metadata": {},
   "source": [
    "## Comparación de modelos y ajuste de hiperparámetros\n",
    "Se evaluaron tres algoritmos:\n",
    "\n",
    "1. Árbol de Decisión: mejor desempeño con max_depth=3 y exactitud de 0.785 en el conjunto de validación.\n",
    "\n",
    "2. Random Forest: mejor desempeño con max_depth=8 y n_estimators=50, alcanzando 0.807 en validación.\n",
    "3.Regresión Logística: exactitud de 0.709, inferior a los modelos basados en árboles, lo que sugiere que la relación entre variables y objetivo no es estrictamente lineal.\n",
    "\n",
    "El Random Forest superó a los demás modelos en exactitud y robustez, confirmando su capacidad para capturar interacciones no lineales entre las variables predictoras."
   ]
  },
  {
   "cell_type": "code",
   "execution_count": 10,
   "metadata": {},
   "outputs": [
    {
     "name": "stdout",
     "output_type": "stream",
     "text": [
      "Árbol de Decisión - Mejor exactitud: 0.785 con max_depth=3\n",
      "Random Forest - Mejor exactitud: 0.807 con max_depth=8, n_estimators=50\n",
      "Regresión logística - Exactitud: 0.709\n"
     ]
    }
   ],
   "source": [
    "from sklearn.tree import DecisionTreeClassifier\n",
    "from sklearn.ensemble import RandomForestClassifier\n",
    "from sklearn.linear_model import LogisticRegression\n",
    "from sklearn.metrics import accuracy_score\n",
    "\n",
    "# Árbol de decision\n",
    "best_tree_score = 0\n",
    "best_tree_depth = 0\n",
    "for depth in range(1, 11):\n",
    "    model = DecisionTreeClassifier(max_depth=depth, random_state=12345)\n",
    "    model.fit(features_train, target_train)\n",
    "    predictions = model.predict(features_valid)\n",
    "    score = accuracy_score(target_valid, predictions)\n",
    "    if score > best_tree_score:\n",
    "        best_tree_score = score\n",
    "        best_tree_depth = depth\n",
    "print(f\"Árbol de Decisión - Mejor exactitud: {best_tree_score:.3f} con max_depth={best_tree_depth}\")\n",
    "\n",
    "# Random Forest\n",
    "best_rf_score = 0\n",
    "best_rf_params = (0, 0)\n",
    "for depth in range(5, 16):\n",
    "    for estimators in [10, 50, 100]:\n",
    "        model = RandomForestClassifier(\n",
    "            max_depth=depth, n_estimators=estimators, random_state=12345)\n",
    "        model.fit(features_train, target_train)\n",
    "        predictions = model.predict(features_valid)\n",
    "        score = accuracy_score(target_valid, predictions)\n",
    "        if score > best_rf_score:\n",
    "            best_rf_score = score\n",
    "            best_rf_params = (depth, estimators)\n",
    "print(f\"Random Forest - Mejor exactitud: {best_rf_score:.3f} con max_depth={best_rf_params[0]}, n_estimators={best_rf_params[1]}\")\n",
    "\n",
    "# Regresion logistica\n",
    "log_model = LogisticRegression(random_state=12345, solver='liblinear')\n",
    "log_model.fit(features_train, target_train)\n",
    "log_score = accuracy_score(target_valid, log_model.predict(features_valid))\n",
    "print(f\"Regresión logística - Exactitud: {log_score:.3f}\")\n"
   ]
  },
  {
   "cell_type": "markdown",
   "metadata": {},
   "source": [
    "<div class=\"alert alert-block alert-success\"> <b>Comentario del revisor</b> <a class=\"tocSkip\"></a><br> <b>Éxito</b> - Comparativa de modelos bien ejecutada, con ajuste sistemático de hiperparámetros y justificación clara del mejor rendimiento obtenido con Random Forest, respaldada por métricas precisas en el conjunto de validación. </div>\n"
   ]
  },
  {
   "cell_type": "markdown",
   "metadata": {},
   "source": [
    "## Evaluación final en el conjunto de prueba\n",
    "El modelo Random Forest seleccionado obtuvo una exactitud de 0.799 en el conjunto de prueba, superando el umbral mínimo requerido de 0.75. El desempeño en prueba es cercano al observado en validación (0.807), lo que indica buena generalización y ausencia de sobreajuste relevante."
   ]
  },
  {
   "cell_type": "code",
   "execution_count": 11,
   "metadata": {},
   "outputs": [
    {
     "name": "stdout",
     "output_type": "stream",
     "text": [
      "Exactitud final en test: 0.799\n"
     ]
    }
   ],
   "source": [
    "# Entrenar con train+valid y evaluar en test\n",
    "final_model = RandomForestClassifier(\n",
    "    max_depth=best_rf_params[0], \n",
    "    n_estimators=best_rf_params[1], \n",
    "    random_state=12345\n",
    ")\n",
    "final_model.fit(pd.concat([features_train, features_valid]), \n",
    "                pd.concat([target_train, target_valid]))\n",
    "\n",
    "final_predictions = final_model.predict(features_test)\n",
    "final_score = accuracy_score(target_test, final_predictions)\n",
    "print(f\"Exactitud final en test: {final_score:.3f}\")\n"
   ]
  },
  {
   "cell_type": "markdown",
   "metadata": {},
   "source": [
    "<div class=\"alert alert-block alert-success\"> <b>Comentario del revisor</b> <a class=\"tocSkip\"></a><br> <b>Éxito</b> - Evaluación final bien realizada, con un resultado de exactitud en prueba consistente con la validación, confirmando la solidez del modelo y su capacidad de generalización. </div>\n"
   ]
  },
  {
   "cell_type": "markdown",
   "metadata": {},
   "source": [
    "## Prueba de cordura (sanity check)\n",
    "Se comparó el modelo final con un clasificador ingenuo que siempre predice la clase mayoritaria (plan Smart). Este modelo base obtuvo una exactitud de 0.684.\n",
    "El Random Forest mejoró el rendimiento en +0.115 puntos de exactitud, demostrando que aprende patrones reales en los datos y no se limita a la distribución de clases."
   ]
  },
  {
   "cell_type": "code",
   "execution_count": 12,
   "metadata": {},
   "outputs": [
    {
     "name": "stdout",
     "output_type": "stream",
     "text": [
      "Exactitud del modelo ingenuo: 0.684\n",
      "Mejora del modelo entrenado: 0.115\n"
     ]
    }
   ],
   "source": [
    "# Modelo ingenuo: siempre predice la clase más frecuente\n",
    "most_common_class = target_train.mode()[0]\n",
    "dummy_accuracy = accuracy_score(target_test, [most_common_class] * len(target_test))\n",
    "print(f\"Exactitud del modelo ingenuo: {dummy_accuracy:.3f}\")\n",
    "print(f\"Mejora del modelo entrenado: {final_score - dummy_accuracy:.3f}\")\n"
   ]
  },
  {
   "cell_type": "markdown",
   "metadata": {},
   "source": [
    "<div class=\"alert alert-block alert-success\"> <b>Comentario del revisor</b> <a class=\"tocSkip\"></a><br> <b>Éxito</b> - La prueba de cordura está bien aplicada, mostrando una comparación clara con un modelo base y evidenciando la ganancia real de rendimiento del modelo final. Análisis sólido para cerrar la validación. </div>\n"
   ]
  },
  {
   "cell_type": "markdown",
   "metadata": {},
   "source": [
    "## Comentario general del revisor "
   ]
  },
  {
   "cell_type": "markdown",
   "metadata": {},
   "source": [
    "# Comentario General del Revisor\n",
    "\n",
    "<div class=\"alert alert-block alert-success\"> <b>Comentario del revisor</b> <a class=\"tocSkip\"></a>\n",
    "    \n",
    "¡Felicidades! Tu proyecto está **aprobado**. Has demostrado un excelente manejo de los datos, análisis exploratorio y aplicación de modelos de clasificación con un enfoque claro en la optimización de hiperparámetros. A continuación, destaco los puntos positivos:  \n",
    "\n",
    "#### Puntos Positivos:  \n",
    "- **Procesamiento de datos:** Carga, exploración y verificación de calidad de datos impecables.  \n",
    "- **Segmentación de datos:** División correcta en entrenamiento, validación y prueba, garantizando evaluaciones independientes.  \n",
    "- **Comparación de modelos:** Análisis detallado y justificación sólida de la selección de Random Forest como mejor modelo.  \n",
    "- **Evaluación final:** Exactitud en el conjunto de prueba superior al umbral, confirmando la capacidad de generalización.  \n",
    "- **Prueba de cordura:** Validación extra que evidencia la mejora sobre un modelo base simple.  \n",
    "\n",
    "Este proyecto cumple plenamente con lo solicitado en el brief. </div>\n"
   ]
  },
  {
   "cell_type": "code",
   "execution_count": null,
   "metadata": {},
   "outputs": [],
   "source": []
  }
 ],
 "metadata": {
  "kernelspec": {
   "display_name": "Python 3 (ipykernel)",
   "language": "python",
   "name": "python3"
  },
  "language_info": {
   "codemirror_mode": {
    "name": "ipython",
    "version": 3
   },
   "file_extension": ".py",
   "mimetype": "text/x-python",
   "name": "python",
   "nbconvert_exporter": "python",
   "pygments_lexer": "ipython3",
   "version": "3.9.23"
  }
 },
 "nbformat": 4,
 "nbformat_minor": 4
}
